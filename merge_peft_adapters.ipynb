{
 "cells": [
  {
   "cell_type": "code",
   "execution_count": 4,
   "id": "d1225243-4244-4730-8529-58b74f3e82c1",
   "metadata": {
    "scrolled": true
   },
   "outputs": [
    {
     "name": "stderr",
     "output_type": "stream",
     "text": [
      "Special tokens have been added in the vocabulary, make sure the associated word embeddings are fine-tuned or trained.\n",
      "Special tokens have been added in the vocabulary, make sure the associated word embeddings are fine-tuned or trained.\n",
      "Loading checkpoint shards: 100%|████████████████████████████████████████| 2/2 [00:07<00:00,  3.65s/it]\n"
     ]
    },
    {
     "data": {
      "text/plain": [
       "('./mistral/merged_model_20/tokenizer_config.json',\n",
       " './mistral/merged_model_20/special_tokens_map.json',\n",
       " './mistral/merged_model_20/tokenizer.model',\n",
       " './mistral/merged_model_20/added_tokens.json',\n",
       " './mistral/merged_model_20/tokenizer.json')"
      ]
     },
     "execution_count": 4,
     "metadata": {},
     "output_type": "execute_result"
    }
   ],
   "source": [
    "from peft import LoraConfig, PeftModel\n",
    "from peft import AutoPeftModelForCausalLM\n",
    "from transformers import AutoTokenizer, AutoModelForCausalLM\n",
    "from huggingface_hub import login\n",
    "from peft import get_peft_config, get_peft_model, LoraConfig, TaskType, PeftModel \n",
    "import torch\n",
    "from accelerate import FullyShardedDataParallelPlugin, Accelerator\n",
    "#Load the base model with default precision\n",
    "model_name = \"teknium/OpenHermes-2.5-Mistral-7B\"\n",
    "adapter = \"./mistral/checkpoint-20_800_1024\"\n",
    "tokenizer = AutoTokenizer.from_pretrained(model_name, add_bos_token=True, trust_remote_code=True)\n",
    "model = AutoModelForCausalLM.from_pretrained(model_name,\n",
    "                                             device_map=\"auto\",\n",
    "                                            # max_memory={1: \"40GiB\", 2: \"40GiB\", \"cpu\": \"30GiB\"},\n",
    "                                            )\n",
    "\n",
    "#Load and activate the adapter on top of the base model\n",
    "model = PeftModel.from_pretrained(model, adapter)\n",
    "\n",
    "#Merge the adapter with the base model\n",
    "model = model.merge_and_unload()\n",
    "\n",
    "#Save the merged model in a directory in the safetensors format\n",
    "model_dir = \"./mistral/merged_model_20/\"\n",
    "model.save_pretrained(model_dir, safe_serialization=True)\n",
    "\n",
    "#Save the custom tokenizer in the same directory\n",
    "tokenizer.save_pretrained(model_dir)"
   ]
  },
  {
   "cell_type": "code",
   "execution_count": null,
   "id": "f9964e1c-26ac-4a25-82e4-0f306f49efbd",
   "metadata": {},
   "outputs": [],
   "source": []
  }
 ],
 "metadata": {
  "kernelspec": {
   "display_name": "Python 3 (ipykernel)",
   "language": "python",
   "name": "python3"
  },
  "language_info": {
   "codemirror_mode": {
    "name": "ipython",
    "version": 3
   },
   "file_extension": ".py",
   "mimetype": "text/x-python",
   "name": "python",
   "nbconvert_exporter": "python",
   "pygments_lexer": "ipython3",
   "version": "3.10.4"
  }
 },
 "nbformat": 4,
 "nbformat_minor": 5
}
